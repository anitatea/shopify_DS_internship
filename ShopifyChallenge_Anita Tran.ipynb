{
 "cells": [
  {
   "cell_type": "markdown",
   "metadata": {},
   "source": [
    "# Winter 2021 Data Science Intern Challenge - Anita Tran"
   ]
  },
  {
   "cell_type": "markdown",
   "metadata": {},
   "source": [
    "## Question 1 Analysis"
   ]
  },
  {
   "cell_type": "markdown",
   "metadata": {},
   "source": [
    "(*Scroll down to the end of Question 1 if you would prefer a summary of the answers found from the analysis below. Question 2 answers are there too.*)"
   ]
  },
  {
   "cell_type": "code",
   "execution_count": 1,
   "metadata": {
    "ExecuteTime": {
     "end_time": "2020-09-08T12:19:36.680941Z",
     "start_time": "2020-09-08T12:19:34.114160Z"
    }
   },
   "outputs": [],
   "source": [
    "# Load the libraries\n",
    "import pandas as pd\n",
    "import numpy as np\n",
    "import matplotlib.pyplot as plt\n",
    "import datetime"
   ]
  },
  {
   "cell_type": "code",
   "execution_count": 15,
   "metadata": {
    "ExecuteTime": {
     "end_time": "2020-09-08T12:24:25.189451Z",
     "start_time": "2020-09-08T12:24:25.170384Z"
    }
   },
   "outputs": [],
   "source": [
    "# Load the datset\n",
    "df = pd.read_csv(\"2019 Winter Data Science Intern Challenge Data Set - Sheet1.csv\")"
   ]
  },
  {
   "cell_type": "code",
   "execution_count": 16,
   "metadata": {
    "ExecuteTime": {
     "end_time": "2020-09-08T12:24:25.619498Z",
     "start_time": "2020-09-08T12:24:25.598767Z"
    }
   },
   "outputs": [
    {
     "data": {
      "text/html": [
       "<div>\n",
       "<style scoped>\n",
       "    .dataframe tbody tr th:only-of-type {\n",
       "        vertical-align: middle;\n",
       "    }\n",
       "\n",
       "    .dataframe tbody tr th {\n",
       "        vertical-align: top;\n",
       "    }\n",
       "\n",
       "    .dataframe thead th {\n",
       "        text-align: right;\n",
       "    }\n",
       "</style>\n",
       "<table border=\"1\" class=\"dataframe\">\n",
       "  <thead>\n",
       "    <tr style=\"text-align: right;\">\n",
       "      <th></th>\n",
       "      <th>order_id</th>\n",
       "      <th>shop_id</th>\n",
       "      <th>user_id</th>\n",
       "      <th>order_amount</th>\n",
       "      <th>total_items</th>\n",
       "      <th>payment_method</th>\n",
       "      <th>created_at</th>\n",
       "    </tr>\n",
       "  </thead>\n",
       "  <tbody>\n",
       "    <tr>\n",
       "      <th>0</th>\n",
       "      <td>1</td>\n",
       "      <td>53</td>\n",
       "      <td>746</td>\n",
       "      <td>224</td>\n",
       "      <td>2</td>\n",
       "      <td>cash</td>\n",
       "      <td>2017-03-13 12:36:56</td>\n",
       "    </tr>\n",
       "    <tr>\n",
       "      <th>1</th>\n",
       "      <td>2</td>\n",
       "      <td>92</td>\n",
       "      <td>925</td>\n",
       "      <td>90</td>\n",
       "      <td>1</td>\n",
       "      <td>cash</td>\n",
       "      <td>2017-03-03 17:38:52</td>\n",
       "    </tr>\n",
       "    <tr>\n",
       "      <th>2</th>\n",
       "      <td>3</td>\n",
       "      <td>44</td>\n",
       "      <td>861</td>\n",
       "      <td>144</td>\n",
       "      <td>1</td>\n",
       "      <td>cash</td>\n",
       "      <td>2017-03-14 4:23:56</td>\n",
       "    </tr>\n",
       "    <tr>\n",
       "      <th>3</th>\n",
       "      <td>4</td>\n",
       "      <td>18</td>\n",
       "      <td>935</td>\n",
       "      <td>156</td>\n",
       "      <td>1</td>\n",
       "      <td>credit_card</td>\n",
       "      <td>2017-03-26 12:43:37</td>\n",
       "    </tr>\n",
       "    <tr>\n",
       "      <th>4</th>\n",
       "      <td>5</td>\n",
       "      <td>18</td>\n",
       "      <td>883</td>\n",
       "      <td>156</td>\n",
       "      <td>1</td>\n",
       "      <td>credit_card</td>\n",
       "      <td>2017-03-01 4:35:11</td>\n",
       "    </tr>\n",
       "  </tbody>\n",
       "</table>\n",
       "</div>"
      ],
      "text/plain": [
       "   order_id  shop_id  user_id  order_amount  total_items payment_method  \\\n",
       "0         1       53      746           224            2           cash   \n",
       "1         2       92      925            90            1           cash   \n",
       "2         3       44      861           144            1           cash   \n",
       "3         4       18      935           156            1    credit_card   \n",
       "4         5       18      883           156            1    credit_card   \n",
       "\n",
       "            created_at  \n",
       "0  2017-03-13 12:36:56  \n",
       "1  2017-03-03 17:38:52  \n",
       "2   2017-03-14 4:23:56  \n",
       "3  2017-03-26 12:43:37  \n",
       "4   2017-03-01 4:35:11  "
      ]
     },
     "execution_count": 16,
     "metadata": {},
     "output_type": "execute_result"
    }
   ],
   "source": [
    "# check the data \n",
    "df.head()"
   ]
  },
  {
   "cell_type": "code",
   "execution_count": 17,
   "metadata": {
    "ExecuteTime": {
     "end_time": "2020-09-08T12:24:26.199373Z",
     "start_time": "2020-09-08T12:24:26.140812Z"
    }
   },
   "outputs": [
    {
     "data": {
      "text/html": [
       "<div>\n",
       "<style scoped>\n",
       "    .dataframe tbody tr th:only-of-type {\n",
       "        vertical-align: middle;\n",
       "    }\n",
       "\n",
       "    .dataframe tbody tr th {\n",
       "        vertical-align: top;\n",
       "    }\n",
       "\n",
       "    .dataframe thead th {\n",
       "        text-align: right;\n",
       "    }\n",
       "</style>\n",
       "<table border=\"1\" class=\"dataframe\">\n",
       "  <thead>\n",
       "    <tr style=\"text-align: right;\">\n",
       "      <th></th>\n",
       "      <th>order_id</th>\n",
       "      <th>shop_id</th>\n",
       "      <th>user_id</th>\n",
       "      <th>order_amount</th>\n",
       "      <th>total_items</th>\n",
       "    </tr>\n",
       "  </thead>\n",
       "  <tbody>\n",
       "    <tr>\n",
       "      <th>count</th>\n",
       "      <td>5000.000000</td>\n",
       "      <td>5000.000000</td>\n",
       "      <td>5000.000000</td>\n",
       "      <td>5000.000000</td>\n",
       "      <td>5000.00000</td>\n",
       "    </tr>\n",
       "    <tr>\n",
       "      <th>mean</th>\n",
       "      <td>2500.500000</td>\n",
       "      <td>50.078800</td>\n",
       "      <td>849.092400</td>\n",
       "      <td>3145.128000</td>\n",
       "      <td>8.78720</td>\n",
       "    </tr>\n",
       "    <tr>\n",
       "      <th>std</th>\n",
       "      <td>1443.520003</td>\n",
       "      <td>29.006118</td>\n",
       "      <td>87.798982</td>\n",
       "      <td>41282.539349</td>\n",
       "      <td>116.32032</td>\n",
       "    </tr>\n",
       "    <tr>\n",
       "      <th>min</th>\n",
       "      <td>1.000000</td>\n",
       "      <td>1.000000</td>\n",
       "      <td>607.000000</td>\n",
       "      <td>90.000000</td>\n",
       "      <td>1.00000</td>\n",
       "    </tr>\n",
       "    <tr>\n",
       "      <th>25%</th>\n",
       "      <td>1250.750000</td>\n",
       "      <td>24.000000</td>\n",
       "      <td>775.000000</td>\n",
       "      <td>163.000000</td>\n",
       "      <td>1.00000</td>\n",
       "    </tr>\n",
       "    <tr>\n",
       "      <th>50%</th>\n",
       "      <td>2500.500000</td>\n",
       "      <td>50.000000</td>\n",
       "      <td>849.000000</td>\n",
       "      <td>284.000000</td>\n",
       "      <td>2.00000</td>\n",
       "    </tr>\n",
       "    <tr>\n",
       "      <th>75%</th>\n",
       "      <td>3750.250000</td>\n",
       "      <td>75.000000</td>\n",
       "      <td>925.000000</td>\n",
       "      <td>390.000000</td>\n",
       "      <td>3.00000</td>\n",
       "    </tr>\n",
       "    <tr>\n",
       "      <th>max</th>\n",
       "      <td>5000.000000</td>\n",
       "      <td>100.000000</td>\n",
       "      <td>999.000000</td>\n",
       "      <td>704000.000000</td>\n",
       "      <td>2000.00000</td>\n",
       "    </tr>\n",
       "  </tbody>\n",
       "</table>\n",
       "</div>"
      ],
      "text/plain": [
       "          order_id      shop_id      user_id   order_amount  total_items\n",
       "count  5000.000000  5000.000000  5000.000000    5000.000000   5000.00000\n",
       "mean   2500.500000    50.078800   849.092400    3145.128000      8.78720\n",
       "std    1443.520003    29.006118    87.798982   41282.539349    116.32032\n",
       "min       1.000000     1.000000   607.000000      90.000000      1.00000\n",
       "25%    1250.750000    24.000000   775.000000     163.000000      1.00000\n",
       "50%    2500.500000    50.000000   849.000000     284.000000      2.00000\n",
       "75%    3750.250000    75.000000   925.000000     390.000000      3.00000\n",
       "max    5000.000000   100.000000   999.000000  704000.000000   2000.00000"
      ]
     },
     "execution_count": 17,
     "metadata": {},
     "output_type": "execute_result"
    }
   ],
   "source": [
    "df.describe()"
   ]
  },
  {
   "cell_type": "markdown",
   "metadata": {},
   "source": [
    "The transactions seem to be around the hundred, however there is a maximum value of 704000. This tells me there might be outliers or bulk orders purchased."
   ]
  },
  {
   "cell_type": "code",
   "execution_count": 18,
   "metadata": {
    "ExecuteTime": {
     "end_time": "2020-09-08T12:24:27.342346Z",
     "start_time": "2020-09-08T12:24:27.330708Z"
    }
   },
   "outputs": [],
   "source": [
    "# Convert date to datetime so we can order\n",
    "df['created_at'] = pd.to_datetime(df['created_at'])"
   ]
  },
  {
   "cell_type": "code",
   "execution_count": 19,
   "metadata": {
    "ExecuteTime": {
     "end_time": "2020-09-08T12:24:30.929502Z",
     "start_time": "2020-09-08T12:24:30.921112Z"
    }
   },
   "outputs": [],
   "source": [
    "# Resetting our index to the date\n",
    "df.set_index('created_at', inplace=True)\n",
    "df.sort_index(inplace=True)"
   ]
  },
  {
   "cell_type": "code",
   "execution_count": 20,
   "metadata": {
    "ExecuteTime": {
     "end_time": "2020-09-08T12:24:31.305569Z",
     "start_time": "2020-09-08T12:24:31.273759Z"
    }
   },
   "outputs": [
    {
     "data": {
      "text/html": [
       "<div>\n",
       "<style scoped>\n",
       "    .dataframe tbody tr th:only-of-type {\n",
       "        vertical-align: middle;\n",
       "    }\n",
       "\n",
       "    .dataframe tbody tr th {\n",
       "        vertical-align: top;\n",
       "    }\n",
       "\n",
       "    .dataframe thead th {\n",
       "        text-align: right;\n",
       "    }\n",
       "</style>\n",
       "<table border=\"1\" class=\"dataframe\">\n",
       "  <thead>\n",
       "    <tr style=\"text-align: right;\">\n",
       "      <th></th>\n",
       "      <th>order_id</th>\n",
       "      <th>shop_id</th>\n",
       "      <th>user_id</th>\n",
       "      <th>order_amount</th>\n",
       "      <th>total_items</th>\n",
       "      <th>payment_method</th>\n",
       "    </tr>\n",
       "    <tr>\n",
       "      <th>created_at</th>\n",
       "      <th></th>\n",
       "      <th></th>\n",
       "      <th></th>\n",
       "      <th></th>\n",
       "      <th></th>\n",
       "      <th></th>\n",
       "    </tr>\n",
       "  </thead>\n",
       "  <tbody>\n",
       "    <tr>\n",
       "      <th>2017-03-01 00:08:09</th>\n",
       "      <td>1863</td>\n",
       "      <td>39</td>\n",
       "      <td>738</td>\n",
       "      <td>536</td>\n",
       "      <td>4</td>\n",
       "      <td>cash</td>\n",
       "    </tr>\n",
       "    <tr>\n",
       "      <th>2017-03-01 00:10:19</th>\n",
       "      <td>1742</td>\n",
       "      <td>39</td>\n",
       "      <td>910</td>\n",
       "      <td>268</td>\n",
       "      <td>2</td>\n",
       "      <td>cash</td>\n",
       "    </tr>\n",
       "    <tr>\n",
       "      <th>2017-03-01 00:14:12</th>\n",
       "      <td>3229</td>\n",
       "      <td>97</td>\n",
       "      <td>912</td>\n",
       "      <td>324</td>\n",
       "      <td>2</td>\n",
       "      <td>cash</td>\n",
       "    </tr>\n",
       "    <tr>\n",
       "      <th>2017-03-01 00:19:31</th>\n",
       "      <td>1268</td>\n",
       "      <td>80</td>\n",
       "      <td>798</td>\n",
       "      <td>290</td>\n",
       "      <td>2</td>\n",
       "      <td>credit_card</td>\n",
       "    </tr>\n",
       "    <tr>\n",
       "      <th>2017-03-01 00:22:25</th>\n",
       "      <td>2690</td>\n",
       "      <td>49</td>\n",
       "      <td>799</td>\n",
       "      <td>258</td>\n",
       "      <td>2</td>\n",
       "      <td>credit_card</td>\n",
       "    </tr>\n",
       "  </tbody>\n",
       "</table>\n",
       "</div>"
      ],
      "text/plain": [
       "                     order_id  shop_id  user_id  order_amount  total_items  \\\n",
       "created_at                                                                   \n",
       "2017-03-01 00:08:09      1863       39      738           536            4   \n",
       "2017-03-01 00:10:19      1742       39      910           268            2   \n",
       "2017-03-01 00:14:12      3229       97      912           324            2   \n",
       "2017-03-01 00:19:31      1268       80      798           290            2   \n",
       "2017-03-01 00:22:25      2690       49      799           258            2   \n",
       "\n",
       "                    payment_method  \n",
       "created_at                          \n",
       "2017-03-01 00:08:09           cash  \n",
       "2017-03-01 00:10:19           cash  \n",
       "2017-03-01 00:14:12           cash  \n",
       "2017-03-01 00:19:31    credit_card  \n",
       "2017-03-01 00:22:25    credit_card  "
      ]
     },
     "execution_count": 20,
     "metadata": {},
     "output_type": "execute_result"
    }
   ],
   "source": [
    "df.head()"
   ]
  },
  {
   "cell_type": "code",
   "execution_count": 21,
   "metadata": {
    "ExecuteTime": {
     "end_time": "2020-09-08T12:24:38.924160Z",
     "start_time": "2020-09-08T12:24:38.604788Z"
    }
   },
   "outputs": [
    {
     "name": "stderr",
     "output_type": "stream",
     "text": [
      "/opt/anaconda3/lib/python3.7/site-packages/pandas/plotting/_converter.py:129: FutureWarning: Using an implicitly registered datetime converter for a matplotlib plotting method. The converter was registered by pandas on import. Future versions of pandas will require you to explicitly register matplotlib converters.\n",
      "\n",
      "To register the converters:\n",
      "\t>>> from pandas.plotting import register_matplotlib_converters\n",
      "\t>>> register_matplotlib_converters()\n",
      "  warnings.warn(msg, FutureWarning)\n"
     ]
    },
    {
     "data": {
      "text/plain": [
       "[<matplotlib.lines.Line2D at 0x7f9fbc3777d0>]"
      ]
     },
     "execution_count": 21,
     "metadata": {},
     "output_type": "execute_result"
    },
    {
     "data": {
      "image/png": "[encoded data removed]",
      "text/plain": [
       "<Figure size 1080x288 with 1 Axes>"
      ]
     },
     "metadata": {
      "needs_background": "light"
     },
     "output_type": "display_data"
    }
   ],
   "source": [
    "# Let's take a look at the order_amount\n",
    "plt.figure(figsize=(15,4))\n",
    "\n",
    "plt.plot(df.index, df['order_amount'])"
   ]
  },
  {
   "cell_type": "markdown",
   "metadata": {},
   "source": [
    "There are large orders (>$10000) happening twice a week. Let's take a look and then decide what to do with them."
   ]
  },
  {
   "cell_type": "code",
   "execution_count": 23,
   "metadata": {
    "ExecuteTime": {
     "end_time": "2020-09-08T12:28:53.404901Z",
     "start_time": "2020-09-08T12:28:53.341560Z"
    }
   },
   "outputs": [
    {
     "data": {
      "text/html": [
       "<div>\n",
       "<style scoped>\n",
       "    .dataframe tbody tr th:only-of-type {\n",
       "        vertical-align: middle;\n",
       "    }\n",
       "\n",
       "    .dataframe tbody tr th {\n",
       "        vertical-align: top;\n",
       "    }\n",
       "\n",
       "    .dataframe thead th {\n",
       "        text-align: right;\n",
       "    }\n",
       "</style>\n",
       "<table border=\"1\" class=\"dataframe\">\n",
       "  <thead>\n",
       "    <tr style=\"text-align: right;\">\n",
       "      <th></th>\n",
       "      <th>order_id</th>\n",
       "      <th>shop_id</th>\n",
       "      <th>user_id</th>\n",
       "      <th>order_amount</th>\n",
       "      <th>total_items</th>\n",
       "    </tr>\n",
       "  </thead>\n",
       "  <tbody>\n",
       "    <tr>\n",
       "      <th>count</th>\n",
       "      <td>63.000000</td>\n",
       "      <td>63.000000</td>\n",
       "      <td>63.000000</td>\n",
       "      <td>63.000000</td>\n",
       "      <td>63.000000</td>\n",
       "    </tr>\n",
       "    <tr>\n",
       "      <th>mean</th>\n",
       "      <td>2574.841270</td>\n",
       "      <td>68.285714</td>\n",
       "      <td>797.380952</td>\n",
       "      <td>225901.587302</td>\n",
       "      <td>541.079365</td>\n",
       "    </tr>\n",
       "    <tr>\n",
       "      <th>std</th>\n",
       "      <td>1409.031402</td>\n",
       "      <td>16.107931</td>\n",
       "      <td>135.683506</td>\n",
       "      <td>293846.276600</td>\n",
       "      <td>894.029503</td>\n",
       "    </tr>\n",
       "    <tr>\n",
       "      <th>min</th>\n",
       "      <td>16.000000</td>\n",
       "      <td>42.000000</td>\n",
       "      <td>607.000000</td>\n",
       "      <td>25725.000000</td>\n",
       "      <td>1.000000</td>\n",
       "    </tr>\n",
       "    <tr>\n",
       "      <th>25%</th>\n",
       "      <td>1402.500000</td>\n",
       "      <td>42.000000</td>\n",
       "      <td>607.000000</td>\n",
       "      <td>25725.000000</td>\n",
       "      <td>1.000000</td>\n",
       "    </tr>\n",
       "    <tr>\n",
       "      <th>50%</th>\n",
       "      <td>2691.000000</td>\n",
       "      <td>78.000000</td>\n",
       "      <td>818.000000</td>\n",
       "      <td>51450.000000</td>\n",
       "      <td>2.000000</td>\n",
       "    </tr>\n",
       "    <tr>\n",
       "      <th>75%</th>\n",
       "      <td>3715.500000</td>\n",
       "      <td>78.000000</td>\n",
       "      <td>913.500000</td>\n",
       "      <td>704000.000000</td>\n",
       "      <td>2000.000000</td>\n",
       "    </tr>\n",
       "    <tr>\n",
       "      <th>max</th>\n",
       "      <td>4919.000000</td>\n",
       "      <td>78.000000</td>\n",
       "      <td>997.000000</td>\n",
       "      <td>704000.000000</td>\n",
       "      <td>2000.000000</td>\n",
       "    </tr>\n",
       "  </tbody>\n",
       "</table>\n",
       "</div>"
      ],
      "text/plain": [
       "          order_id    shop_id     user_id   order_amount  total_items\n",
       "count    63.000000  63.000000   63.000000      63.000000    63.000000\n",
       "mean   2574.841270  68.285714  797.380952  225901.587302   541.079365\n",
       "std    1409.031402  16.107931  135.683506  293846.276600   894.029503\n",
       "min      16.000000  42.000000  607.000000   25725.000000     1.000000\n",
       "25%    1402.500000  42.000000  607.000000   25725.000000     1.000000\n",
       "50%    2691.000000  78.000000  818.000000   51450.000000     2.000000\n",
       "75%    3715.500000  78.000000  913.500000  704000.000000  2000.000000\n",
       "max    4919.000000  78.000000  997.000000  704000.000000  2000.000000"
      ]
     },
     "execution_count": 23,
     "metadata": {},
     "output_type": "execute_result"
    }
   ],
   "source": [
    "df[(df['order_amount'] > 10000)].describe()"
   ]
  },
  {
   "cell_type": "markdown",
   "metadata": {},
   "source": [
    "63 out of 5000 purchases are over \\\\$10000 (1.3%). Something looks fishy. Our mean is taking in these bulk purchases into account, which might not be the best metric for this. We would never expect an average pair of shoes to cost $3145.13."
   ]
  },
  {
   "cell_type": "code",
   "execution_count": 25,
   "metadata": {
    "ExecuteTime": {
     "end_time": "2020-09-08T12:33:02.608638Z",
     "start_time": "2020-09-08T12:33:02.593809Z"
    }
   },
   "outputs": [
    {
     "data": {
      "text/plain": [
       "3145.128"
      ]
     },
     "execution_count": 25,
     "metadata": {},
     "output_type": "execute_result"
    }
   ],
   "source": [
    "df['order_amount'].mean()"
   ]
  },
  {
   "cell_type": "markdown",
   "metadata": {},
   "source": [
    "We saw that our original choice of evaluation metric, AOV, is largely affected by the numerous extreme values in this dataset, both from the over \\\\$2000 item purchases and from the odd bulk order amounts that were multiples of $704000. \n",
    "\n",
    "To protect our evaluation metric from the effects of these outliers it would therefore be wise to instead use a robust evaluation metrix -> Median."
   ]
  },
  {
   "cell_type": "code",
   "execution_count": 26,
   "metadata": {
    "ExecuteTime": {
     "end_time": "2020-09-08T12:34:46.039080Z",
     "start_time": "2020-09-08T12:34:46.000792Z"
    }
   },
   "outputs": [
    {
     "data": {
      "text/plain": [
       "284.0"
      ]
     },
     "execution_count": 26,
     "metadata": {},
     "output_type": "execute_result"
    }
   ],
   "source": [
    "df['order_amount'].median()"
   ]
  },
  {
   "cell_type": "markdown",
   "metadata": {},
   "source": [
    "## Question 1 Answers (Summary) \n",
    "\n",
    "**Question 1a.**\n",
    "\n",
    "• Using out inital value of the AOV, we are blindly computing the average order amount without taking into account the number of pairs of shoes purchased in each transaction.\n",
    "•Moreover, there are many transactions that seem questionable/erroneous:\n",
    "-The several indentical transactions that included over $2000 purchases each are driving up the AOV.\n",
    "•Due to the extreme points it would be preferable to use a robust evaluation metric (one which isn't affected by extreme values which will skew the average)\n",
    "\n",
    "\n",
    "**Question 1b.**\n",
    "To protect our evaluation metric from the effects of extreme/erroneous points it would be wise to use a robust evaluation metric: median. A median of a population is any value such that at most half of the population is less than the proposed median and at most half is greater than the proposed median.\n",
    "\n",
    "**Question 1c.**\n",
    "Median is $284, which is a more reasonable value for our measure of central tendancy than the mean (AOV) of \\\\$3145.13 given that we are talking about single-transaction purchases of shoes."
   ]
  },
  {
   "cell_type": "code",
   "execution_count": null,
   "metadata": {},
   "outputs": [],
   "source": []
  },
  {
   "cell_type": "markdown",
   "metadata": {},
   "source": [
    "# Question 2"
   ]
  },
  {
   "cell_type": "markdown",
   "metadata": {
    "ExecuteTime": {
     "end_time": "2020-09-08T12:41:45.959591Z",
     "start_time": "2020-09-08T12:41:45.922641Z"
    }
   },
   "source": [
    "**Question 2a.How many orders were shipped by Speedy Express in total? **\n",
    "\n",
    "***Answer: 54***\n",
    "\n",
    "SELECT COUNT(*) <br />\n",
    "FROM Orders AS o, Shippers AS s <br /> \n",
    "WHERE o.ShipperId = s.ShipperId AND ShipperName = \"Speedy Express\";\n",
    "\n",
    "**Question 2b. What is the last name of the employee with the most orders? **<br />\n",
    "***Answer: Peacock <br />\n",
    "(10 orders)***\n",
    "\n",
    "\n",
    "SELECT *, count(*) FROM [Orders] <br />\n",
    "LEFT JOIN Employees <br />\n",
    "ON Orders.EmployeeID = Employees.EmployeeID <br />\n",
    "GROUP BY Orders.EmployeeID; <br />\n",
    "\n",
    "**Question 2c.** <br />\n",
    "***Answer: Rössle Sauerkraut & Lakkalikööri <br />\n",
    "\n",
    "SELECT *, count(*) <br />\n",
    "FROM [OrderDetails] as OD <br />\n",
    "LEFT JOIN Products as P <br />\n",
    "ON OD.ProductID = P.ProductID <br />\n",
    "LEFT JOIN Orders as O <br />\n",
    "ON OD.OrderID = O.OrderID <br />\n",
    "LEFT JOIN Customers as C <br />\n",
    "ON O.CustomerID = C.CustomerID <br />\n",
    "GROUP BY P.ProductName <br />\n",
    "HAVING C.Country = 'Germany' <br />\n",
    "ORDER BY count(*) DESC <br />"
   ]
  },
  {
   "cell_type": "markdown",
   "metadata": {},
   "source": [
    "**Further Analysis**\n",
    "\n",
    "I would be interested to explore the most popular categories and where are they shipped to/ customer (countries) who are ordering them."
   ]
  }
 ],
 "metadata": {
  "kernelspec": {
   "display_name": "Python 3",
   "language": "python",
   "name": "python3"
  },
  "language_info": {
   "codemirror_mode": {
    "name": "ipython",
    "version": 3
   },
   "file_extension": ".py",
   "mimetype": "text/x-python",
   "name": "python",
   "nbconvert_exporter": "python",
   "pygments_lexer": "ipython3",
   "version": "3.7.6"
  },
  "toc": {
   "base_numbering": 1,
   "nav_menu": {},
   "number_sections": false,
   "sideBar": true,
   "skip_h1_title": false,
   "title_cell": "Table of Contents",
   "title_sidebar": "Contents",
   "toc_cell": false,
   "toc_position": {},
   "toc_section_display": true,
   "toc_window_display": false
  }
 },
 "nbformat": 4,
 "nbformat_minor": 2
}
